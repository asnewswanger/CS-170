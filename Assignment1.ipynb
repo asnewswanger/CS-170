{
 "cells": [
  {
   "cell_type": "markdown",
   "id": "8fdf32ee-2cac-4776-b3a4-b1a498056c30",
   "metadata": {},
   "source": [
    "# My First Python Coding Assignment"
   ]
  },
  {
   "cell_type": "code",
   "execution_count": 5,
   "id": "b4f0bef3-d746-4fb9-bf06-3feab446d1ac",
   "metadata": {},
   "outputs": [
    {
     "name": "stdout",
     "output_type": "stream",
     "text": [
      "How to declare variable and work on it in Python:\n",
      "15\n",
      "5\n"
     ]
    }
   ],
   "source": [
    "print ('How to declare variable and work on it in Python:')\n",
    "x = 10\n",
    "y = 5\n",
    "z = x + y\n",
    "print (z)\n",
    "\n",
    "w = x - y\n",
    "print (w)"
   ]
  },
  {
   "cell_type": "code",
   "execution_count": null,
   "id": "8897f2a1-a8fb-4d4f-9952-91ebe574f571",
   "metadata": {},
   "outputs": [],
   "source": []
  }
 ],
 "metadata": {
  "kernelspec": {
   "display_name": "Python [conda env:base] *",
   "language": "python",
   "name": "conda-base-py"
  },
  "language_info": {
   "codemirror_mode": {
    "name": "ipython",
    "version": 3
   },
   "file_extension": ".py",
   "mimetype": "text/x-python",
   "name": "python",
   "nbconvert_exporter": "python",
   "pygments_lexer": "ipython3",
   "version": "3.13.5"
  }
 },
 "nbformat": 4,
 "nbformat_minor": 5
}
